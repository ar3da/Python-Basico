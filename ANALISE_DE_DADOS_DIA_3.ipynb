{
  "nbformat": 4,
  "nbformat_minor": 0,
  "metadata": {
    "colab": {
      "provenance": [],
      "authorship_tag": "ABX9TyOqHe1+rReFhfujVXVWMaIc",
      "include_colab_link": true
    },
    "kernelspec": {
      "name": "python3",
      "display_name": "Python 3"
    },
    "language_info": {
      "name": "python"
    }
  },
  "cells": [
    {
      "cell_type": "markdown",
      "metadata": {
        "id": "view-in-github",
        "colab_type": "text"
      },
      "source": [
        "<a href=\"https://colab.research.google.com/github/ar3da/Python-Basico/blob/main/ANALISE_DE_DADOS_DIA_3.ipynb\" target=\"_parent\"><img src=\"https://colab.research.google.com/assets/colab-badge.svg\" alt=\"Open In Colab\"/></a>"
      ]
    },
    {
      "cell_type": "code",
      "execution_count": null,
      "metadata": {
        "colab": {
          "base_uri": "https://localhost:8080/"
        },
        "id": "3zhVayDX4dbg",
        "outputId": "1a084b2e-9aa8-490c-9dd7-5fbfdf265d66"
      },
      "outputs": [
        {
          "output_type": "stream",
          "name": "stdout",
          "text": [
            "{'nome': 'Areda', 'idade': 21, 'cidade': 'Campina Grande'}\n",
            "Nome: Areda\n",
            "Idade: 21\n"
          ]
        }
      ],
      "source": [
        "#Dicionário com informações pessoais\n",
        "\n",
        "pessoa = {\n",
        "    \"nome\": \"Areda\",\n",
        "    \"idade\": 21,\n",
        "    \"cidade\": \"Campina Grande\"\n",
        "}\n",
        "\n",
        "print(pessoa)\n",
        "print(\"Nome:\", pessoa[\"nome\"])\n",
        "print(\"Idade:\", pessoa[\"idade\"])\n"
      ]
    },
    {
      "cell_type": "code",
      "source": [
        "#Alterando valores\n",
        "\n",
        "pessoa[\"idade\"] = 22\n",
        "print(\"Idade atualizada: \",pessoa[\"idade\"])"
      ],
      "metadata": {
        "colab": {
          "base_uri": "https://localhost:8080/"
        },
        "id": "Pc6nQ__5BAIi",
        "outputId": "75ba6a4e-a28c-4fd7-d0ee-fa611e9fe400"
      },
      "execution_count": null,
      "outputs": [
        {
          "output_type": "stream",
          "name": "stdout",
          "text": [
            "Idade atualizada:  22\n"
          ]
        }
      ]
    },
    {
      "cell_type": "code",
      "source": [
        "#Adicionando novas categorias\n",
        "\n",
        "pessoa[\"Profissao\"] = \"Analista de dados (em formação)\"\n",
        "print(pessoa)"
      ],
      "metadata": {
        "colab": {
          "base_uri": "https://localhost:8080/"
        },
        "id": "ef5UkW6MBqXQ",
        "outputId": "4078856a-3c2c-4702-d118-b5c7336ae980"
      },
      "execution_count": null,
      "outputs": [
        {
          "output_type": "stream",
          "name": "stdout",
          "text": [
            "{'nome': 'Areda', 'idade': 22, 'cidade': 'Campina Grande', 'Profissao': 'Analista de dados (em formação)'}\n"
          ]
        }
      ]
    },
    {
      "cell_type": "code",
      "source": [
        "#EXERCICIO DIA 3: DESPESAS COMO DICIONÁRIO\n",
        "\n",
        "despesas = {\n",
        "    \"aluguel\": 500,\n",
        "    \"mercado\": 300,\n",
        "    \"contas\": 400\n",
        "}\n",
        "\n",
        "total = sum(despesas.values())\n",
        "print(total)"
      ],
      "metadata": {
        "colab": {
          "base_uri": "https://localhost:8080/"
        },
        "id": "akW0pcgzCq-4",
        "outputId": "a2acffdd-d56e-405b-86e5-606d6005a3d0"
      },
      "execution_count": null,
      "outputs": [
        {
          "output_type": "stream",
          "name": "stdout",
          "text": [
            "1200\n"
          ]
        }
      ]
    },
    {
      "cell_type": "code",
      "source": [
        "import pandas as pd\n",
        "\n",
        "#Criando uma tabela com dicionário\n",
        "\n",
        "dados = {\n",
        "    \"Produto\": [\"Arroz\", \"Feijão\", \"Milho\"],\n",
        "    \"Preço\": [20, 15, 5],\n",
        "    \"Quantidade\": [50, 70, 100]\n",
        "}\n",
        "\n",
        "df = pd.DataFrame(dados)\n",
        "print(df)\n",
        "print(\"_\"*30)\n",
        "\n",
        "#OPERAÇÕES SIMPLES\n",
        "\n",
        "# Total de linhas e colunas\n",
        "print(\"Formato da tabela:\", df.shape)\n",
        "print(\"_\"*30)\n",
        "\n",
        "# Primeiras linhas\n",
        "print(df.head())\n",
        "print(\"_\"*30)\n",
        "\n",
        "# Últimas linhas\n",
        "print(df.tail())\n",
        "print(\"_\"*30)\n",
        "\n",
        "# Informações estatísticas\n",
        "print(df.describe())\n",
        "print(\"_\"*30)\n",
        "\n",
        "# Soma de uma coluna\n",
        "print(\"Total de Quantidade:\", df[\"Quantidade\"].sum())\n",
        "print(\"_\"*30)\n",
        "\n",
        "# Valor total gasto\n",
        "df[\"Total\"] = df[\"Quantidade\"] * df[\"Preço\"]\n",
        "print(df)\n",
        "print(\"_\"*30)\n"
      ],
      "metadata": {
        "colab": {
          "base_uri": "https://localhost:8080/"
        },
        "id": "00Wq976qDGEQ",
        "outputId": "8147d350-f9b9-451a-b9a4-03e316154428"
      },
      "execution_count": 11,
      "outputs": [
        {
          "output_type": "stream",
          "name": "stdout",
          "text": [
            "  Produto  Preço  Quantidade\n",
            "0   Arroz     20          50\n",
            "1  Feijão     15          70\n",
            "2   Milho      5         100\n",
            "______________________________\n",
            "Formato da tabela: (3, 3)\n",
            "______________________________\n",
            "  Produto  Preço  Quantidade\n",
            "0   Arroz     20          50\n",
            "1  Feijão     15          70\n",
            "2   Milho      5         100\n",
            "______________________________\n",
            "  Produto  Preço  Quantidade\n",
            "0   Arroz     20          50\n",
            "1  Feijão     15          70\n",
            "2   Milho      5         100\n",
            "______________________________\n",
            "           Preço  Quantidade\n",
            "count   3.000000    3.000000\n",
            "mean   13.333333   73.333333\n",
            "std     7.637626   25.166115\n",
            "min     5.000000   50.000000\n",
            "25%    10.000000   60.000000\n",
            "50%    15.000000   70.000000\n",
            "75%    17.500000   85.000000\n",
            "max    20.000000  100.000000\n",
            "______________________________\n",
            "Total de Quantidade: 220\n",
            "______________________________\n",
            "  Produto  Preço  Quantidade  Total\n",
            "0   Arroz     20          50   1000\n",
            "1  Feijão     15          70   1050\n",
            "2   Milho      5         100    500\n",
            "______________________________\n"
          ]
        }
      ]
    },
    {
      "cell_type": "code",
      "source": [
        "\n"
      ],
      "metadata": {
        "id": "X0EQUH7-EV01"
      },
      "execution_count": null,
      "outputs": []
    }
  ]
}