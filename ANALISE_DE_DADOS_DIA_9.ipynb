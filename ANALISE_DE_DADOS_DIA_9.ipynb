{
  "nbformat": 4,
  "nbformat_minor": 0,
  "metadata": {
    "colab": {
      "provenance": [],
      "authorship_tag": "ABX9TyNUY5Yan6/K8ex9RClAbuCz",
      "include_colab_link": true
    },
    "kernelspec": {
      "name": "python3",
      "display_name": "Python 3"
    },
    "language_info": {
      "name": "python"
    }
  },
  "cells": [
    {
      "cell_type": "markdown",
      "metadata": {
        "id": "view-in-github",
        "colab_type": "text"
      },
      "source": [
        "<a href=\"https://colab.research.google.com/github/ar3da/Python-Basico/blob/main/ANALISE_DE_DADOS_DIA_9.ipynb\" target=\"_parent\"><img src=\"https://colab.research.google.com/assets/colab-badge.svg\" alt=\"Open In Colab\"/></a>"
      ]
    },
    {
      "cell_type": "code",
      "execution_count": 5,
      "metadata": {
        "colab": {
          "base_uri": "https://localhost:8080/"
        },
        "id": "Ae40FvTo-HSn",
        "outputId": "faa723c1-244f-456a-bf46-af17f506f73c"
      },
      "outputs": [
        {
          "output_type": "stream",
          "name": "stdout",
          "text": [
            "Tabela original:\n",
            "     Nome        Data  Valor\n",
            "0    Ana   2023-01-10    100\n",
            "1   bruno  2023/02/15    200\n",
            "2  Carlos  15-03-2023    150\n",
            "3    Ana   2023-01-10    100\n",
            "\n",
            " Nomes limpos (sem espaços e com a inicial maíuscula): \n",
            "     Nome        Data  Valor\n",
            "0     Ana  2023-01-10    100\n",
            "1   Bruno  2023/02/15    200\n",
            "2  Carlos  15-03-2023    150\n",
            "3     Ana  2023-01-10    100\n",
            "\n",
            " Convertendo datas para datetime: \n",
            "     Nome       Data  Valor\n",
            "0     Ana 2023-10-01    100\n",
            "1   Bruno        NaT    200\n",
            "2  Carlos        NaT    150\n",
            "3     Ana 2023-10-01    100\n",
            "\n",
            " Tabela com ano e mês: \n",
            "     Nome       Data  Valor     Ano   Mês\n",
            "0     Ana 2023-10-01    100  2023.0  10.0\n",
            "1   Bruno        NaT    200     NaN   NaN\n",
            "2  Carlos        NaT    150     NaN   NaN\n",
            "3     Ana 2023-10-01    100  2023.0  10.0\n",
            "\n",
            "Removendo linhas duplicadas:\n",
            "     Nome       Data  Valor     Ano   Mês\n",
            "0     Ana 2023-10-01    100  2023.0  10.0\n",
            "1   Bruno        NaT    200     NaN   NaN\n",
            "2  Carlos        NaT    150     NaN   NaN\n"
          ]
        }
      ],
      "source": [
        "import pandas as pd\n",
        "\n",
        "# Criando um DataFrame de exemplo\n",
        "dados = {\n",
        "    \"Nome\": [\" Ana \", \"bruno\", \"Carlos\", \"Ana \"],\n",
        "    \"Data\": [\"2023-01-10\", \"2023/02/15\", \"15-03-2023\", \"2023-01-10\"],\n",
        "    \"Valor\": [100, 200, 150, 100]\n",
        "}\n",
        "\n",
        "df = pd.DataFrame(dados)\n",
        "print(\"Tabela original:\")\n",
        "print(df)\n",
        "\n",
        "# -> TRATAMENTO DE STRINGS\n",
        "\n",
        "print(\"\\n Nomes limpos (sem espaços e com a inicial maíuscula): \")\n",
        "df[\"Nome\"] = df[\"Nome\"].str.strip().str.capitalize()\n",
        "print(df)\n",
        "\n",
        "\n",
        "# ->  Conversão de datas\n",
        "\n",
        "print(\"\\n Convertendo datas para datetime: \")\n",
        "df[\"Data\"] = pd.to_datetime(df[\"Data\"], dayfirst=True, errors=\"coerce\")\n",
        "print(df)\n",
        "\n",
        "# -> Extraindo ano e mês\n",
        "\n",
        "df[\"Ano\"] = df[\"Data\"].dt.year\n",
        "df[\"Mês\"] = df[\"Data\"].dt.month\n",
        "print(\"\\n Tabela com ano e mês: \")\n",
        "print(df)\n",
        "\n",
        "# -> Removendo duplicados\n",
        "\n",
        "print(\"\\nRemovendo linhas duplicadas:\")\n",
        "df = df.drop_duplicates()\n",
        "print(df)"
      ]
    }
  ]
}