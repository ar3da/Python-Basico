{
  "nbformat": 4,
  "nbformat_minor": 0,
  "metadata": {
    "colab": {
      "provenance": [],
      "authorship_tag": "ABX9TyPLqNs4uEISVbtLKeSi6fqs",
      "include_colab_link": true
    },
    "kernelspec": {
      "name": "python3",
      "display_name": "Python 3"
    },
    "language_info": {
      "name": "python"
    }
  },
  "cells": [
    {
      "cell_type": "markdown",
      "metadata": {
        "id": "view-in-github",
        "colab_type": "text"
      },
      "source": [
        "<a href=\"https://colab.research.google.com/github/ar3da/Python-Basico/blob/main/ANALISE_DE_DADOS_DIA_6.ipynb\" target=\"_parent\"><img src=\"https://colab.research.google.com/assets/colab-badge.svg\" alt=\"Open In Colab\"/></a>"
      ]
    },
    {
      "cell_type": "code",
      "execution_count": null,
      "metadata": {
        "colab": {
          "base_uri": "https://localhost:8080/"
        },
        "id": "duxHh4PTiysK",
        "outputId": "7a737926-bc65-42af-b194-e1b1cbead502"
      },
      "outputs": [
        {
          "output_type": "stream",
          "name": "stdout",
          "text": [
            "Meu nome é Areda Joelma, tenho 22 anos e moro em Campina Grande.\n"
          ]
        }
      ],
      "source": [
        "#EXERCICIO DE REVISÃO - VARIAVEIS\n",
        "\n",
        "# Crie variáveis com seu nome, idade e cidade.\n",
        "# Exiba uma frase usando format ou f-string.\n",
        "\n",
        "nome = \"Areda Joelma\"\n",
        "idade = 22\n",
        "cidade = \"Campina Grande\"\n",
        "\n",
        "print(\"Meu nome é {}, tenho {} anos e moro em {}.\".format(nome, idade, cidade))\n",
        "\n"
      ]
    },
    {
      "cell_type": "code",
      "source": [
        "#EXERCICIO DE REVISÃO - LISTAS\n",
        "\n",
        "# Crie uma lista de despesas mensais.\n",
        "# Adicione uma despesa nova.\n",
        "# Remova uma despesa.\n",
        "# Calcule o valor total e a média.\n",
        "\n",
        "import pandas as pd\n",
        "\n",
        "despesas = [450, 151, 59]\n",
        "print(despesas)\n",
        "\n",
        "despesas.append(26)\n",
        "print(despesas)\n",
        "\n",
        "despesas.remove(151)\n",
        "print(despesas)\n",
        "\n",
        "media = sum(despesas)/len(despesas)\n",
        "print(media)\n",
        "\n",
        "\n"
      ],
      "metadata": {
        "colab": {
          "base_uri": "https://localhost:8080/"
        },
        "id": "1MGXhdHmkGE_",
        "outputId": "4dbb4328-a413-42bd-d135-b69c75c0db69"
      },
      "execution_count": null,
      "outputs": [
        {
          "output_type": "stream",
          "name": "stdout",
          "text": [
            "[450, 151, 59]\n",
            "[450, 151, 59, 26]\n",
            "[450, 59, 26]\n",
            "178.33333333333334\n"
          ]
        }
      ]
    },
    {
      "cell_type": "code",
      "source": [
        "#EXERCICIO DE REVISÃO - DICIONÁRIOS\n",
        "\n",
        "# Crie um dicionário com seus dados pessoais.\n",
        "# Adicione uma chave nova: 'profissão'.\n",
        "# Atualize sua idade.\n",
        "# Mostre apenas os valores do dicionário.\n",
        "\n",
        "\n",
        "areda = {\n",
        "    \"nome\" : \"Areda Joelma\",\n",
        "    \"Idade\" : 22,\n",
        "    \"Cidade\" : \"Campina Grande\"\n",
        "}\n",
        "\n",
        "print(areda)\n",
        "\n",
        "areda [\"profissão\"]=\"Analista de dados\"\n",
        "print(areda)\n",
        "\n"
      ],
      "metadata": {
        "colab": {
          "base_uri": "https://localhost:8080/"
        },
        "id": "uSWHx2sdmy5p",
        "outputId": "074d7fe9-bd26-414b-e646-cc732e66b6dd"
      },
      "execution_count": null,
      "outputs": [
        {
          "output_type": "stream",
          "name": "stdout",
          "text": [
            "{'nome': 'Areda Joelma', 'Idade': 22, 'Cidade': 'Campina Grande'}\n",
            "{'nome': 'Areda Joelma', 'Idade': 22, 'Cidade': 'Campina Grande', 'profissão': 'Analista de dados'}\n"
          ]
        }
      ]
    },
    {
      "cell_type": "code",
      "source": [
        "#EXERCICIO DE REVISÃO\n",
        "\n",
        "import pandas as pd\n",
        "\n",
        "dados = {\n",
        "    \"Produto\": [\"Arroz\", \"Feijão\", \"Leite\", \"Café\"],\n",
        "    \"Quantidade\": [2, 1, 5, 3],\n",
        "    \"Preço\": [10, 8, 4, 12]\n",
        "}\n",
        "\n",
        "df = pd.DataFrame(dados)\n",
        "\n",
        "# Adicione uma coluna 'Total' (Quantidade * Preço).\n",
        "# Filtre produtos com preço acima de 8.\n",
        "# Ordene pelo Total (decrescente).\n",
        "# Mostre o produto mais caro.\n",
        "\n",
        "\n",
        "df[\"Total\"] = df[\"Quantidade\"]*df[\"Preço\"]\n",
        "print(df)\n",
        "\n",
        "df_filtrando = df[df[\"Preço\"]>8]\n",
        "print(df_filtrando)\n",
        "\n",
        "df_ordenado = (df.sort_values(by=\"Total\", ascending=False))\n",
        "print(df_ordenado)\n",
        "\n",
        "produto_mais_caro = df_ordenado.iloc[0]\n",
        "print(produto_mais_caro)\n",
        "\n",
        "\n",
        "print(\"_\"*40)\n",
        "\n",
        "#RENOMEANDO COLUNAS\n",
        "\n",
        "df.rename(columns= {\"Produto\": \"Item\", \"Preço\": \"Valor\"}, inplace=True)\n",
        "print(df)\n",
        "\n"
      ],
      "metadata": {
        "colab": {
          "base_uri": "https://localhost:8080/"
        },
        "id": "D87EkxgmorFu",
        "outputId": "ded2db10-bbc3-4ca7-ea99-20e96dafa694"
      },
      "execution_count": 6,
      "outputs": [
        {
          "output_type": "stream",
          "name": "stdout",
          "text": [
            "  Produto  Quantidade  Preço  Total\n",
            "0   Arroz           2     10     20\n",
            "1  Feijão           1      8      8\n",
            "2   Leite           5      4     20\n",
            "3    Café           3     12     36\n",
            "  Produto  Quantidade  Preço  Total\n",
            "0   Arroz           2     10     20\n",
            "3    Café           3     12     36\n",
            "  Produto  Quantidade  Preço  Total\n",
            "3    Café           3     12     36\n",
            "0   Arroz           2     10     20\n",
            "2   Leite           5      4     20\n",
            "1  Feijão           1      8      8\n",
            "Produto       Café\n",
            "Quantidade       3\n",
            "Preço           12\n",
            "Total           36\n",
            "Name: 3, dtype: object\n",
            "________________________________________\n",
            "     Item  Quantidade  Valor  Total\n",
            "0   Arroz           2     10     20\n",
            "1  Feijão           1      8      8\n",
            "2   Leite           5      4     20\n",
            "3    Café           3     12     36\n"
          ]
        }
      ]
    },
    {
      "cell_type": "code",
      "source": [
        "#EXERCICIO DE REVISÃO - VISUALIZAÇÃO\n",
        "\n",
        "import matplotlib.pyplot as plt\n",
        "\n",
        "plt.bar(df[\"Produto\"], df[\"Total\"])\n",
        "plt.title(\"Total de Vendas por Produto\")\n",
        "plt.show()\n"
      ],
      "metadata": {
        "colab": {
          "base_uri": "https://localhost:8080/",
          "height": 452
        },
        "id": "c6Jn9mPsshXz",
        "outputId": "ae1965ca-0b83-4085-a0be-4aec777aad17"
      },
      "execution_count": null,
      "outputs": [
        {
          "output_type": "display_data",
          "data": {
            "text/plain": [
              "<Figure size 640x480 with 1 Axes>"
            ],
            "image/png": "[encoded data removed]"
          },
          "metadata": {}
        }
      ]
    },
    {
      "cell_type": "code",
      "source": [
        "import pandas as pd\n",
        "\n",
        "#Criando dados com valores faltantes\n",
        "\n",
        "dados2 = {\n",
        "    \"Produto\": [\"Arroz\", \"Feijão\", \"Leite\", \"Café\"],\n",
        "    \"Quantidade\": [2, None, 5, 3],\n",
        "    \"Preço\": [10, 8, None, 12]\n",
        "}\n",
        "\n",
        "df2 = pd.DataFrame(dados2)\n",
        "print(df2)\n",
        "\n",
        "print(\"_\"*40)\n",
        "\n",
        "#Consultar valores nulos\n",
        "\n",
        "print(df2.isnull())\n",
        "\n",
        "print(\"_\"*40)\n",
        "\n",
        "#Substituir valores nulos por 0\n",
        "\n",
        "df2.fillna(0, inplace=True)\n",
        "print(df2)\n",
        "\n",
        "print(\"_\"*40)\n",
        "\n",
        "#Excluindo valores nulos\n",
        "\n",
        "df2.dropna(inplace=True)\n",
        "print(df2)"
      ],
      "metadata": {
        "colab": {
          "base_uri": "https://localhost:8080/"
        },
        "id": "vji9mppR_xNd",
        "outputId": "3f72a910-fca9-4e2f-c260-9931fe7bff1a"
      },
      "execution_count": 12,
      "outputs": [
        {
          "output_type": "stream",
          "name": "stdout",
          "text": [
            "  Produto  Quantidade  Preço\n",
            "0   Arroz         2.0   10.0\n",
            "1  Feijão         NaN    8.0\n",
            "2   Leite         5.0    NaN\n",
            "3    Café         3.0   12.0\n",
            "________________________________________\n",
            "   Produto  Quantidade  Preço\n",
            "0    False       False  False\n",
            "1    False        True  False\n",
            "2    False       False   True\n",
            "3    False       False  False\n",
            "________________________________________\n",
            "  Produto  Quantidade  Preço\n",
            "0   Arroz         2.0   10.0\n",
            "1  Feijão         0.0    8.0\n",
            "2   Leite         5.0    0.0\n",
            "3    Café         3.0   12.0\n",
            "________________________________________\n",
            "  Produto  Quantidade  Preço\n",
            "0   Arroz         2.0   10.0\n",
            "1  Feijão         0.0    8.0\n",
            "2   Leite         5.0    0.0\n",
            "3    Café         3.0   12.0\n"
          ]
        }
      ]
    }
  ]
}