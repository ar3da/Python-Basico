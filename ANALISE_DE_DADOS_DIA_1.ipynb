{
  "nbformat": 4,
  "nbformat_minor": 0,
  "metadata": {
    "colab": {
      "provenance": [],
      "toc_visible": true,
      "authorship_tag": "ABX9TyNQUnTuycvnnxLn7epCaMdK",
      "include_colab_link": true
    },
    "kernelspec": {
      "name": "python3",
      "display_name": "Python 3"
    },
    "language_info": {
      "name": "python"
    }
  },
  "cells": [
    {
      "cell_type": "markdown",
      "metadata": {
        "id": "view-in-github",
        "colab_type": "text"
      },
      "source": [
        "<a href=\"https://colab.research.google.com/github/ar3da/Python-Basico/blob/main/ANALISE_DE_DADOS_DIA_1.ipynb\" target=\"_parent\"><img src=\"https://colab.research.google.com/assets/colab-badge.svg\" alt=\"Open In Colab\"/></a>"
      ]
    },
    {
      "cell_type": "code",
      "execution_count": null,
      "metadata": {
        "colab": {
          "base_uri": "https://localhost:8080/"
        },
        "id": "V1VaVvqzkLi9",
        "outputId": "29efc332-2a80-4551-ad0d-16072eee6a0d"
      },
      "outputs": [
        {
          "output_type": "stream",
          "name": "stdout",
          "text": [
            "Olá mundo!!! Irei seguir carreira em analise de dados\n"
          ]
        }
      ],
      "source": [
        "print(\"Olá mundo!!! Irei seguir carreira em analise de dados\")"
      ]
    },
    {
      "cell_type": "code",
      "source": [
        "print(\"Meu nome é Areda\")"
      ],
      "metadata": {
        "colab": {
          "base_uri": "https://localhost:8080/"
        },
        "id": "Vf7HJT9jk2sh",
        "outputId": "8aeaf32f-a26a-4a9a-d591-dbfdcc664a5f"
      },
      "execution_count": null,
      "outputs": [
        {
          "output_type": "stream",
          "name": "stdout",
          "text": [
            "Meu nome é Areda\n"
          ]
        }
      ]
    },
    {
      "cell_type": "code",
      "source": [
        "#Trabalhando com números e operações matemáticas\n",
        "\n",
        "soma = 2 + 2\n",
        "subtracao = 2 - 2\n",
        "multiplicacao = 2 * 2\n",
        "divisao = 2 / 2\n",
        "\n",
        "print(soma)\n",
        "print(subtracao)\n",
        "print(multiplicacao)\n",
        "print(divisao)\n"
      ],
      "metadata": {
        "colab": {
          "base_uri": "https://localhost:8080/"
        },
        "id": "-vV-YnAbk-0j",
        "outputId": "b564b655-63f5-4051-84ce-d9036e2575d6"
      },
      "execution_count": null,
      "outputs": [
        {
          "output_type": "stream",
          "name": "stdout",
          "text": [
            "4\n",
            "0\n",
            "4\n",
            "1.0\n"
          ]
        }
      ]
    },
    {
      "cell_type": "code",
      "source": [
        "nome = \"Areda\"\n",
        "idade = 21\n",
        "salario = 1518.00\n",
        "\n",
        "print(\"Meu nome é {}\".format(nome))\n",
        "print(\"Tenho {} anos\".format(idade))\n",
        "print(\"Meu salário atual é de R${}\".format(salario))"
      ],
      "metadata": {
        "colab": {
          "base_uri": "https://localhost:8080/"
        },
        "id": "MLxPJ2uasOyo",
        "outputId": "bba18b95-f729-4889-f788-391683722995"
      },
      "execution_count": null,
      "outputs": [
        {
          "output_type": "stream",
          "name": "stdout",
          "text": [
            "Meu nome é Areda\n",
            "Tenho 21 anos\n",
            "Meu salário atual é de R$1518.0\n"
          ]
        }
      ]
    },
    {
      "cell_type": "code",
      "source": [
        "#Verificando tipos de variaveis\n",
        "\n",
        "print(type(nome))\n",
        "print(type(idade))\n",
        "print(type(salario))"
      ],
      "metadata": {
        "colab": {
          "base_uri": "https://localhost:8080/"
        },
        "id": "hWRdDTU6rerp",
        "outputId": "15b5e697-3a08-4083-d0a7-89c6fff9acc1"
      },
      "execution_count": null,
      "outputs": [
        {
          "output_type": "stream",
          "name": "stdout",
          "text": [
            "<class 'str'>\n",
            "<class 'int'>\n",
            "<class 'float'>\n"
          ]
        }
      ]
    },
    {
      "cell_type": "code",
      "source": [
        "# Salário e despesas\n",
        "salario = 1412\n",
        "aluguel = 500\n",
        "mercado = 300\n",
        "contas = 400\n",
        "\n",
        "# calcular quanto sobra\n",
        "sobra = salario - (aluguel + mercado + contas)\n",
        "\n",
        "print(\"Sobrou:\", sobra, \"reais no mês\")\n"
      ],
      "metadata": {
        "colab": {
          "base_uri": "https://localhost:8080/"
        },
        "id": "goDzX0J4s__-",
        "outputId": "7e4e7fa4-e86a-4ca4-9057-94e3cd642959"
      },
      "execution_count": null,
      "outputs": [
        {
          "output_type": "stream",
          "name": "stdout",
          "text": [
            "Sobrou: 212 reais no mês\n"
          ]
        }
      ]
    },
    {
      "cell_type": "markdown",
      "source": [
        "***# DIA 2: Trabalhando com listas***"
      ],
      "metadata": {
        "id": "PqpsSst_tJid"
      }
    },
    {
      "cell_type": "code",
      "source": [],
      "metadata": {
        "id": "cRIF6SPEtef8"
      },
      "execution_count": null,
      "outputs": []
    }
  ]
}