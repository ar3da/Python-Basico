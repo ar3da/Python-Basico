{
  "nbformat": 4,
  "nbformat_minor": 0,
  "metadata": {
    "colab": {
      "provenance": [],
      "authorship_tag": "ABX9TyN78lQtELpZ9W8o8AavASaz",
      "include_colab_link": true
    },
    "kernelspec": {
      "name": "python3",
      "display_name": "Python 3"
    },
    "language_info": {
      "name": "python"
    }
  },
  "cells": [
    {
      "cell_type": "markdown",
      "metadata": {
        "id": "view-in-github",
        "colab_type": "text"
      },
      "source": [
        "<a href=\"https://colab.research.google.com/github/ar3da/Python-Basico/blob/main/ANALISE_DE_DADOS_DIA_2.ipynb\" target=\"_parent\"><img src=\"https://colab.research.google.com/assets/colab-badge.svg\" alt=\"Open In Colab\"/></a>"
      ]
    },
    {
      "cell_type": "code",
      "execution_count": 9,
      "metadata": {
        "colab": {
          "base_uri": "https://localhost:8080/"
        },
        "id": "TmkLJpd4t0mg",
        "outputId": "5d895b89-72e8-4bb9-d145-9cfdc1dc2862"
      },
      "outputs": [
        {
          "output_type": "stream",
          "name": "stdout",
          "text": [
            "[10, 7, 8, 6, 4]\n",
            "A primeira nota é 10\n",
            "A segunda nota é 7\n",
            "A terceira nota é 8\n",
            "A quarta nota é 6\n",
            "A quinta nota é 4\n",
            "Notas atualizadas: [10, 7, 8, 6, 4, 5]\n"
          ]
        }
      ],
      "source": [
        "#Criando uma lista de números\n",
        "\n",
        "notas = [10, 7, 8, 6, 4]\n",
        "print(notas)\n",
        "\n",
        "#Acessando os itens da lista (Inicia-se com o índicie 0)\n",
        "\n",
        "print(\"A primeira nota é {}\".format(notas[0]))\n",
        "print(\"A segunda nota é {}\".format(notas[1]))\n",
        "print(\"A terceira nota é {}\".format(notas[2]))\n",
        "print(\"A quarta nota é {}\".format(notas[3]))\n",
        "print(\"A quinta nota é {}\".format(notas[4]))\n",
        "\n",
        "#Adicionando itens a lista\n",
        "\n",
        "notas.append(5)\n",
        "print(\"Notas atualizadas: {}\".format(notas))"
      ]
    },
    {
      "cell_type": "code",
      "source": [
        "#Removendo itens da lista\n",
        "\n",
        "notas.remove(5)\n",
        "print(\"Notas atualizadas: {}\".format(notas))"
      ],
      "metadata": {
        "colab": {
          "base_uri": "https://localhost:8080/"
        },
        "id": "kFrso-0uw009",
        "outputId": "28fff3b6-480d-48ae-a271-d5d29ef871f7"
      },
      "execution_count": 10,
      "outputs": [
        {
          "output_type": "stream",
          "name": "stdout",
          "text": [
            "Notas atualizadas: [10, 7, 8, 6, 4]\n"
          ]
        }
      ]
    },
    {
      "cell_type": "code",
      "source": [
        "#EXERCICIO DIA 2\n",
        "\n",
        "# Lista com valores de despesas\n",
        "despesas = [450, 500, 151.8]\n",
        "\n",
        "# Total gasto\n",
        "total = sum(despesas)\n",
        "print(\"Total de despesas:\", total)\n",
        "\n",
        "# Média de cada despesa\n",
        "media = total / len(despesas)\n",
        "print(\"Média de cada despesa:\", media)\n"
      ],
      "metadata": {
        "colab": {
          "base_uri": "https://localhost:8080/"
        },
        "id": "b2sPIdrFxYD5",
        "outputId": "3160be62-f1f4-4ce0-9068-6feffeb0504e"
      },
      "execution_count": 11,
      "outputs": [
        {
          "output_type": "stream",
          "name": "stdout",
          "text": [
            "Total de despesas: 1101.8\n",
            "Média de cada despesa: 367.26666666666665\n"
          ]
        }
      ]
    },
    {
      "cell_type": "code",
      "source": [],
      "metadata": {
        "id": "cX4LDDKHxm_Q"
      },
      "execution_count": null,
      "outputs": []
    }
  ]
}