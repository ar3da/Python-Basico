{
  "nbformat": 4,
  "nbformat_minor": 0,
  "metadata": {
    "colab": {
      "provenance": [],
      "authorship_tag": "ABX9TyPDr7B1LQa9kDZykTQrhpQk",
      "include_colab_link": true
    },
    "kernelspec": {
      "name": "python3",
      "display_name": "Python 3"
    },
    "language_info": {
      "name": "python"
    }
  },
  "cells": [
    {
      "cell_type": "markdown",
      "metadata": {
        "id": "view-in-github",
        "colab_type": "text"
      },
      "source": [
        "<a href=\"https://colab.research.google.com/github/ar3da/Python-Basico/blob/main/ANALISE_DE_DADOS_DIA_7.ipynb\" target=\"_parent\"><img src=\"https://colab.research.google.com/assets/colab-badge.svg\" alt=\"Open In Colab\"/></a>"
      ]
    },
    {
      "cell_type": "code",
      "execution_count": 8,
      "metadata": {
        "colab": {
          "base_uri": "https://localhost:8080/"
        },
        "id": "bNnsDDUenysl",
        "outputId": "2b1b1154-9857-4662-ecd6-00afc332cef4"
      },
      "outputs": [
        {
          "output_type": "stream",
          "name": "stdout",
          "text": [
            "Tabela Original: \n",
            "     Categoria  Valor\n",
            "0  Alimentação     50\n",
            "1  Alimentação     40\n",
            "2   Transporte     70\n",
            "3   Transporte     80\n",
            "4        Lazer    100\n",
            "5        Lazer     90\n",
            "________________________________________\n",
            "\n",
            " Soma por categoria: \n",
            "Categoria\n",
            "Alimentação     90\n",
            "Lazer          190\n",
            "Transporte     150\n",
            "Name: Valor, dtype: int64\n",
            "________________________________________\n",
            "\n",
            " Média por categoria: \n",
            "Categoria\n",
            "Alimentação    45.0\n",
            "Lazer          95.0\n",
            "Transporte     75.0\n",
            "Name: Valor, dtype: float64\n",
            "________________________________________\n",
            "\n",
            " Estatisticas por categoria: \n",
            "             mean  sum  min  max\n",
            "Categoria                       \n",
            "Alimentação  45.0   90   40   50\n",
            "Lazer        95.0  190   90  100\n",
            "Transporte   75.0  150   70   80\n"
          ]
        }
      ],
      "source": [
        "import pandas as pd\n",
        "\n",
        "#Criando um dataframe de exemplo para estudas as funções groupby e agg\n",
        "\n",
        "dados = {\n",
        "    \"Categoria\": [\"Alimentação\", \"Alimentação\", \"Transporte\", \"Transporte\", \"Lazer\", \"Lazer\"],\n",
        "    \"Valor\": [50, 40,70, 80, 100, 90]\n",
        "\n",
        "}\n",
        "\n",
        "df = pd.DataFrame(dados)\n",
        "print(\"Tabela Original: \")\n",
        "print(df)\n",
        "\n",
        "print(\"_\"*40)\n",
        "\n",
        "#Agrupar por categoria e somar valores\n",
        "\n",
        "print(\"\\n Soma por categoria: \")\n",
        "print(df.groupby(\"Categoria\")[\"Valor\"].sum())\n",
        "\n",
        "print(\"_\"*40)\n",
        "\n",
        "#Agrupar e calcular a média\n",
        "\n",
        "print(\"\\n Média por categoria: \")\n",
        "print(df.groupby(\"Categoria\")[\"Valor\"].mean())\n",
        "\n",
        "print(\"_\"*40)\n",
        "\n",
        "#Agrupar e usar multiplas funções com agg\n",
        "\n",
        "print(\"\\n Estatisticas por categoria: \")\n",
        "print(df.groupby(\"Categoria\")[\"Valor\"].agg([\"mean\", \"sum\", \"min\", \"max\"]))"
      ]
    }
  ]
}