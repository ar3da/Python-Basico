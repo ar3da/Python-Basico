{
  "nbformat": 4,
  "nbformat_minor": 0,
  "metadata": {
    "colab": {
      "provenance": [],
      "authorship_tag": "ABX9TyP7pV5YJgke+h87GmAcnqW8",
      "include_colab_link": true
    },
    "kernelspec": {
      "name": "python3",
      "display_name": "Python 3"
    },
    "language_info": {
      "name": "python"
    }
  },
  "cells": [
    {
      "cell_type": "markdown",
      "metadata": {
        "id": "view-in-github",
        "colab_type": "text"
      },
      "source": [
        "<a href=\"https://colab.research.google.com/github/ar3da/Python-Basico/blob/main/ANALISE_DE_DADOS_DIA_4.ipynb\" target=\"_parent\"><img src=\"https://colab.research.google.com/assets/colab-badge.svg\" alt=\"Open In Colab\"/></a>"
      ]
    },
    {
      "cell_type": "code",
      "execution_count": 11,
      "metadata": {
        "colab": {
          "base_uri": "https://localhost:8080/"
        },
        "id": "pQtOyi_xAuGQ",
        "outputId": "a6dfa04a-5bde-43d5-af33-6d44465036bb"
      },
      "outputs": [
        {
          "output_type": "stream",
          "name": "stdout",
          "text": [
            "    Produto  Quantidade  Preço  Total\n",
            "0     Arroz           2     10     20\n",
            "1    Feijão           1      8      8\n",
            "2  Macarrão           3      5     15\n",
            "3     Leite           5      4     20\n",
            "4      Café           2     12     24\n",
            "5    Açúcar           4      3     12\n",
            "________________________________________\n",
            "       Quantidade      Preço      Total\n",
            "count    6.000000   6.000000   6.000000\n",
            "mean     2.833333   7.000000  16.500000\n",
            "std      1.471960   3.577709   5.924525\n",
            "min      1.000000   3.000000   8.000000\n",
            "25%      2.000000   4.250000  12.750000\n",
            "50%      2.500000   6.500000  17.500000\n",
            "75%      3.750000   9.500000  20.000000\n",
            "max      5.000000  12.000000  24.000000\n",
            "Produto mais caro:  12\n",
            "Produto mais barato:  3\n",
            "Produto mais vendido:  5\n",
            "Produto menos vendido:  1\n"
          ]
        }
      ],
      "source": [
        "import pandas as pd\n",
        "\n",
        "dados = {\n",
        "    \"Produto\": [\"Arroz\", \"Feijão\", \"Macarrão\", \"Leite\", \"Café\", \"Açúcar\"],\n",
        "    \"Quantidade\": [2, 1, 3, 5, 2, 4],\n",
        "    \"Preço\": [10, 8, 5, 4, 12, 3]\n",
        "}\n",
        "\n",
        "df = pd.DataFrame(dados)\n",
        "\n",
        "#Adicionando uma coluna de valor total\n",
        "\n",
        "df[\"Total\"] = df[\"Quantidade\"] * df[\"Preço\"]\n",
        "\n",
        "print(df)\n",
        "\n",
        "\n",
        "print(\"_\"*40)\n",
        "\n",
        "\n",
        "#Analise estatistica\n",
        "\n",
        "print(df.describe())\n",
        "print(\"Produto mais caro: \", df[\"Preço\"].max())\n",
        "print(\"Produto mais barato: \", df[\"Preço\"].min())\n",
        "print(\"Produto mais vendido: \", df[\"Quantidade\"].max())\n",
        "print(\"Produto menos vendido: \", df[\"Quantidade\"].min())"
      ]
    },
    {
      "cell_type": "code",
      "source": [
        "#Criando filtros para análises\n",
        "\n",
        "filtro_quantidade = df[\"Quantidade\"] > 2\n",
        "print(df[filtro_quantidade])\n",
        "\n",
        "print(\"_\"*40)\n",
        "\n",
        "filtro_preco = df[\"Preço\"] < 10\n",
        "print(df[filtro_preco])"
      ],
      "metadata": {
        "colab": {
          "base_uri": "https://localhost:8080/"
        },
        "id": "qKhQBaOcDxuo",
        "outputId": "ad01ca60-20a1-4894-d1cb-2944ba642664"
      },
      "execution_count": 13,
      "outputs": [
        {
          "output_type": "stream",
          "name": "stdout",
          "text": [
            "    Produto  Quantidade  Preço  Total\n",
            "2  Macarrão           3      5     15\n",
            "3     Leite           5      4     20\n",
            "5    Açúcar           4      3     12\n",
            "________________________________________\n",
            "    Produto  Quantidade  Preço  Total\n",
            "1    Feijão           1      8      8\n",
            "2  Macarrão           3      5     15\n",
            "3     Leite           5      4     20\n",
            "5    Açúcar           4      3     12\n"
          ]
        }
      ]
    },
    {
      "cell_type": "code",
      "source": [
        "#Selecionando colunas especificas\n",
        "\n",
        "print(df[[\"Produto\", \"Quantidade\"]])#seleciona as duas colunas\n",
        "\n",
        "print(\"_\"*40)\n",
        "\n",
        "print(df[\"Total\"])#Seleciona a coluna Total"
      ],
      "metadata": {
        "colab": {
          "base_uri": "https://localhost:8080/"
        },
        "id": "M7lI7IqTEOZG",
        "outputId": "bd8659b3-338a-4a96-a832-87f73118e980"
      },
      "execution_count": 15,
      "outputs": [
        {
          "output_type": "stream",
          "name": "stdout",
          "text": [
            "    Produto  Quantidade\n",
            "0     Arroz           2\n",
            "1    Feijão           1\n",
            "2  Macarrão           3\n",
            "3     Leite           5\n",
            "4      Café           2\n",
            "5    Açúcar           4\n",
            "________________________________________\n",
            "0    20\n",
            "1     8\n",
            "2    15\n",
            "3    20\n",
            "4    24\n",
            "5    12\n",
            "Name: Total, dtype: int64\n"
          ]
        }
      ]
    },
    {
      "cell_type": "code",
      "source": [
        "#Ordenando dados\n",
        "\n",
        "#Ordenando por preço\n",
        "\n",
        "print(df.sort_values(by=\"Preço\"))\n",
        "\n",
        "print(\"_\"*40)\n",
        "\n",
        "#Ordenando por quantidade (decrescente)\n",
        "print(df.sort_values(by=\"Quantidade\", ascending=False))"
      ],
      "metadata": {
        "colab": {
          "base_uri": "https://localhost:8080/"
        },
        "id": "Cz8TZvTpGBRO",
        "outputId": "31adac04-911e-45ab-a9b9-c730635ac984"
      },
      "execution_count": 17,
      "outputs": [
        {
          "output_type": "stream",
          "name": "stdout",
          "text": [
            "    Produto  Quantidade  Preço  Total\n",
            "5    Açúcar           4      3     12\n",
            "3     Leite           5      4     20\n",
            "2  Macarrão           3      5     15\n",
            "1    Feijão           1      8      8\n",
            "0     Arroz           2     10     20\n",
            "4      Café           2     12     24\n",
            "________________________________________\n",
            "    Produto  Quantidade  Preço  Total\n",
            "3     Leite           5      4     20\n",
            "5    Açúcar           4      3     12\n",
            "2  Macarrão           3      5     15\n",
            "0     Arroz           2     10     20\n",
            "4      Café           2     12     24\n",
            "1    Feijão           1      8      8\n"
          ]
        }
      ]
    },
    {
      "cell_type": "code",
      "source": [
        "#Mini Desafio (15 min)\n",
        "#Crie um DataFrame com as suas despesas pessoais (igual às listas que fizemos antes).\n",
        "\n",
        "despesas = {\n",
        "    \"despesas\": [\"mercado\", \"cartao\", \"lazer\"],\n",
        "    \"valor\": [450, 500, 100]\n",
        "}\n",
        "\n",
        "df = pd.DataFrame(despesas)\n",
        "print(df)\n",
        "\n",
        "print(\"_\"*40)\n",
        "\n",
        "#Adicionando uma coluna \"Categoria\" (exemplo: fixo, variável, lazer).\n",
        "\n",
        "df[\"categoria\"] = [\"fixo\", \"fixo\", \"lazer\"]\n",
        "print(df)\n",
        "\n",
        "print(\"_\"*40)\n",
        "\n",
        "#Adicionando filtros\n",
        "\n",
        "filtro_fixo = df[\"categoria\"] == \"fixo\"\n",
        "print(df[filtro_fixo])\n",
        "\n",
        "print(\"_\"*40)\n",
        "\n",
        "filtro_lazer = df[\"categoria\"] == \"lazer\"\n",
        "print(df[filtro_lazer])\n"
      ],
      "metadata": {
        "colab": {
          "base_uri": "https://localhost:8080/"
        },
        "id": "_iNt21mpGnDr",
        "outputId": "87ac3dc8-1e59-4c59-962c-49ff44fb9048"
      },
      "execution_count": 23,
      "outputs": [
        {
          "output_type": "stream",
          "name": "stdout",
          "text": [
            "  despesas  valor\n",
            "0  mercado    450\n",
            "1   cartao    500\n",
            "2    lazer    100\n",
            "________________________________________\n",
            "  despesas  valor categoria\n",
            "0  mercado    450      fixo\n",
            "1   cartao    500      fixo\n",
            "2    lazer    100     lazer\n",
            "________________________________________\n",
            "  despesas  valor categoria\n",
            "0  mercado    450      fixo\n",
            "1   cartao    500      fixo\n",
            "________________________________________\n",
            "  despesas  valor categoria\n",
            "2    lazer    100     lazer\n"
          ]
        }
      ]
    }
  ]
}