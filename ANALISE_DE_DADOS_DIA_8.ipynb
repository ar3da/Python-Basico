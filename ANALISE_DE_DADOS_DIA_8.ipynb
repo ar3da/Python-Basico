{
  "nbformat": 4,
  "nbformat_minor": 0,
  "metadata": {
    "colab": {
      "provenance": [],
      "authorship_tag": "ABX9TyPTjgKpNpiRAUixq5qyxBUz",
      "include_colab_link": true
    },
    "kernelspec": {
      "name": "python3",
      "display_name": "Python 3"
    },
    "language_info": {
      "name": "python"
    }
  },
  "cells": [
    {
      "cell_type": "markdown",
      "metadata": {
        "id": "view-in-github",
        "colab_type": "text"
      },
      "source": [
        "<a href=\"https://colab.research.google.com/github/ar3da/Python-Basico/blob/main/ANALISE_DE_DADOS_DIA_8.ipynb\" target=\"_parent\"><img src=\"https://colab.research.google.com/assets/colab-badge.svg\" alt=\"Open In Colab\"/></a>"
      ]
    },
    {
      "cell_type": "code",
      "execution_count": 11,
      "metadata": {
        "colab": {
          "base_uri": "https://localhost:8080/"
        },
        "id": "xdSFL9NCyW98",
        "outputId": "27444b93-5def-4463-aa95-38b53241477c"
      },
      "outputs": [
        {
          "output_type": "stream",
          "name": "stdout",
          "text": [
            "Clientes: \n",
            "    ID   Nome\n",
            "0   1   João\n",
            "1   2  Maria\n",
            "2   3  Pedro\n",
            "3   4    Ana\n",
            "4   5  Lucas\n",
            "5   6   José \n",
            "\n",
            "Compras: \n",
            "      Produto  ID\n",
            "0    Celular   1\n",
            "1   Notebook   2\n",
            "2     Tablet   3\n",
            "3         TV   4\n",
            "4  Geladeira   5 \n",
            "\n",
            "Merge (Inner Join) -> Apenas clientes que possuem compras\n",
            "   ID   Nome    Produto\n",
            "0   1   João    Celular\n",
            "1   2  Maria   Notebook\n",
            "2   3  Pedro     Tablet\n",
            "3   4    Ana         TV\n",
            "4   5  Lucas  Geladeira\n",
            "________________________________________\n",
            "Left Join -> Todos os clientes, mesmo sem compras\n",
            "   ID   Nome    Produto\n",
            "0   1   João    Celular\n",
            "1   2  Maria   Notebook\n",
            "2   3  Pedro     Tablet\n",
            "3   4    Ana         TV\n",
            "4   5  Lucas  Geladeira\n",
            "5   6   José        NaN\n",
            "________________________________________\n",
            "RIGHT JOIN -> todas as compras, mesmo sem cliente correspondente\n",
            "   ID   Nome    Produto\n",
            "0   1   João    Celular\n",
            "1   2  Maria   Notebook\n",
            "2   3  Pedro     Tablet\n",
            "3   4    Ana         TV\n",
            "4   5  Lucas  Geladeira\n",
            "________________________________________\n",
            "OUTER JOIN -> tudo junto, sem perder nada\n",
            "   ID   Nome    Produto\n",
            "0   1   João    Celular\n",
            "1   2  Maria   Notebook\n",
            "2   3  Pedro     Tablet\n",
            "3   4    Ana         TV\n",
            "4   5  Lucas  Geladeira\n",
            "5   6   José        NaN\n",
            "________________________________________\n",
            "Concat -> empilhando dados\n",
            "   A   B\n",
            "0  1   4\n",
            "1  2   5\n",
            "2  3   6\n",
            "0  7  10\n",
            "1  8  11\n",
            "2  9  12\n"
          ]
        }
      ],
      "source": [
        "import pandas as pd\n",
        "\n",
        "#Criando dois DataFrames de exemplo\n",
        "\n",
        "clientes = pd.DataFrame({\n",
        "    'ID': [1, 2, 3, 4, 5, 6],\n",
        "    'Nome': ['João', 'Maria', 'Pedro', 'Ana', 'Lucas', 'José']\n",
        "    })\n",
        "\n",
        "compras = pd.DataFrame({\n",
        "    'Produto': ['Celular', 'Notebook', 'Tablet', 'TV', 'Geladeira'],\n",
        "    'ID': [1, 2, 3, 4, 5]\n",
        "})\n",
        "\n",
        "print(\"Clientes: \\n\", clientes, \"\\n\")\n",
        "print(\"Compras: \\n\", compras, \"\\n\")\n",
        "\n",
        "\n",
        "# MERGE INNER JOIN (Apenas clientes que tem compras)\n",
        "\n",
        "print(\"Merge (Inner Join) -> Apenas clientes que possuem compras\")\n",
        "print(pd.merge(clientes, compras, on='ID', how=\"inner\"))\n",
        "\n",
        "print(\"_\"*40)\n",
        "\n",
        "# LEFT Join (todos os clientes, mesmo sem compras)\n",
        "\n",
        "print(\"Left Join -> Todos os clientes, mesmo sem compras\")\n",
        "print(pd.merge(clientes, compras, on='ID', how=\"left\"))\n",
        "print(\"_\"*40)\n",
        "\n",
        "# RIGHT JOIN -> todas as compras, mesmo sem cliente correspondente\n",
        "\n",
        "print(\"RIGHT JOIN -> todas as compras, mesmo sem cliente correspondente\")\n",
        "print(pd.merge(clientes, compras, on= \"ID\", how= \"right\"))\n",
        "print(\"_\"*40)\n",
        "\n",
        "# OUTER JOIN -> tudo junto, sem perder nada\n",
        "\n",
        "print(\"OUTER JOIN -> tudo junto, sem perder nada\")\n",
        "print(pd.merge(clientes, compras, on= \"ID\", how= \"outer\"))\n",
        "print(\"_\"*40)\n",
        "\n",
        "\n",
        "# Exemplo de concat -> empilhando dados\n",
        "\n",
        "df1 = pd.DataFrame({\"A\": [1, 2, 3], \"B\": [4, 5, 6]})\n",
        "df2 = pd.DataFrame({\"A\": [7, 8, 9], \"B\": [10, 11, 12]})\n",
        "\n",
        "print(\"Concat -> empilhando dados\")\n",
        "print(pd.concat([df1, df2]))"
      ]
    }
  ]
}